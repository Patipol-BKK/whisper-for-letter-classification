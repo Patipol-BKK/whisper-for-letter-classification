{
 "cells": [
  {
   "cell_type": "code",
   "execution_count": null,
   "id": "482f3712-ee9b-47a9-af5e-d698547a8f2d",
   "metadata": {},
   "outputs": [],
   "source": []
  }
 ],
 "metadata": {
  "kernelspec": {
   "display_name": "wflc_venv",
   "language": "python",
   "name": "wflc_venv"
  },
  "language_info": {
   "codemirror_mode": {
    "name": "ipython",
    "version": 3
   },
   "file_extension": ".py",
   "mimetype": "text/x-python",
   "name": "python",
   "nbconvert_exporter": "python",
   "pygments_lexer": "ipython3",
   "version": "3.10.13"
  }
 },
 "nbformat": 4,
 "nbformat_minor": 5
}
